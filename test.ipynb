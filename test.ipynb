{
 "cells": [
  {
   "cell_type": "code",
   "execution_count": 9,
   "metadata": {},
   "outputs": [],
   "source": [
    "from gensim.models.fasttext import FastText as FT_gensim\n",
    "from gensim.models.fasttext import load_facebook_vectors\n"
   ]
  },
  {
   "cell_type": "code",
   "execution_count": 10,
   "metadata": {},
   "outputs": [
    {
     "ename": "MemoryError",
     "evalue": "Unable to allocate 1.24 GiB for an array with shape (331923200,) and data type float32",
     "output_type": "error",
     "traceback": [
      "\u001b[1;31m---------------------------------------------------------------------------\u001b[0m",
      "\u001b[1;31mMemoryError\u001b[0m                               Traceback (most recent call last)",
      "\u001b[1;32mc:\\Users\\paulr\\Projects\\atmospheres\\test.ipynb Cell 2\u001b[0m line \u001b[0;36m1\n\u001b[1;32m----> <a href='vscode-notebook-cell:/c%3A/Users/paulr/Projects/atmospheres/test.ipynb#W1sZmlsZQ%3D%3D?line=0'>1</a>\u001b[0m ft_vectors \u001b[39m=\u001b[39m load_facebook_vectors(\u001b[39m'\u001b[39;49m\u001b[39mdata/model/model.bin\u001b[39;49m\u001b[39m'\u001b[39;49m)\n",
      "File \u001b[1;32mc:\\Users\\paulr\\AppData\\Local\\pypoetry\\Cache\\virtualenvs\\atmospheres-WbcnL0Lo-py3.11\\Lib\\site-packages\\gensim\\models\\fasttext.py:784\u001b[0m, in \u001b[0;36mload_facebook_vectors\u001b[1;34m(path, encoding)\u001b[0m\n\u001b[0;32m    731\u001b[0m \u001b[39mdef\u001b[39;00m \u001b[39mload_facebook_vectors\u001b[39m(path, encoding\u001b[39m=\u001b[39m\u001b[39m'\u001b[39m\u001b[39mutf-8\u001b[39m\u001b[39m'\u001b[39m):\n\u001b[0;32m    732\u001b[0m \u001b[39m    \u001b[39m\u001b[39m\"\"\"Load word embeddings from a model saved in Facebook's native fasttext `.bin` format.\u001b[39;00m\n\u001b[0;32m    733\u001b[0m \n\u001b[0;32m    734\u001b[0m \u001b[39m    Notes\u001b[39;00m\n\u001b[1;32m   (...)\u001b[0m\n\u001b[0;32m    782\u001b[0m \n\u001b[0;32m    783\u001b[0m \u001b[39m    \"\"\"\u001b[39;00m\n\u001b[1;32m--> 784\u001b[0m     full_model \u001b[39m=\u001b[39m _load_fasttext_format(path, encoding\u001b[39m=\u001b[39;49mencoding, full_model\u001b[39m=\u001b[39;49m\u001b[39mFalse\u001b[39;49;00m)\n\u001b[0;32m    785\u001b[0m     \u001b[39mreturn\u001b[39;00m full_model\u001b[39m.\u001b[39mwv\n",
      "File \u001b[1;32mc:\\Users\\paulr\\AppData\\Local\\pypoetry\\Cache\\virtualenvs\\atmospheres-WbcnL0Lo-py3.11\\Lib\\site-packages\\gensim\\models\\fasttext.py:808\u001b[0m, in \u001b[0;36m_load_fasttext_format\u001b[1;34m(model_file, encoding, full_model)\u001b[0m\n\u001b[0;32m    789\u001b[0m \u001b[39m\u001b[39m\u001b[39m\"\"\"Load the input-hidden weight matrix from Facebook's native fasttext `.bin` output files.\u001b[39;00m\n\u001b[0;32m    790\u001b[0m \n\u001b[0;32m    791\u001b[0m \u001b[39mParameters\u001b[39;00m\n\u001b[1;32m   (...)\u001b[0m\n\u001b[0;32m    805\u001b[0m \n\u001b[0;32m    806\u001b[0m \u001b[39m\"\"\"\u001b[39;00m\n\u001b[0;32m    807\u001b[0m \u001b[39mwith\u001b[39;00m utils\u001b[39m.\u001b[39mopen(model_file, \u001b[39m'\u001b[39m\u001b[39mrb\u001b[39m\u001b[39m'\u001b[39m) \u001b[39mas\u001b[39;00m fin:\n\u001b[1;32m--> 808\u001b[0m     m \u001b[39m=\u001b[39m gensim\u001b[39m.\u001b[39;49mmodels\u001b[39m.\u001b[39;49m_fasttext_bin\u001b[39m.\u001b[39;49mload(fin, encoding\u001b[39m=\u001b[39;49mencoding, full_model\u001b[39m=\u001b[39;49mfull_model)\n\u001b[0;32m    810\u001b[0m model \u001b[39m=\u001b[39m FastText(\n\u001b[0;32m    811\u001b[0m     vector_size\u001b[39m=\u001b[39mm\u001b[39m.\u001b[39mdim,\n\u001b[0;32m    812\u001b[0m     window\u001b[39m=\u001b[39mm\u001b[39m.\u001b[39mws,\n\u001b[1;32m   (...)\u001b[0m\n\u001b[0;32m    821\u001b[0m     max_n\u001b[39m=\u001b[39mm\u001b[39m.\u001b[39mmaxn,\n\u001b[0;32m    822\u001b[0m )\n\u001b[0;32m    823\u001b[0m model\u001b[39m.\u001b[39mcorpus_total_words \u001b[39m=\u001b[39m m\u001b[39m.\u001b[39mntokens\n",
      "File \u001b[1;32mc:\\Users\\paulr\\AppData\\Local\\pypoetry\\Cache\\virtualenvs\\atmospheres-WbcnL0Lo-py3.11\\Lib\\site-packages\\gensim\\models\\_fasttext_bin.py:348\u001b[0m, in \u001b[0;36mload\u001b[1;34m(fin, encoding, full_model)\u001b[0m\n\u001b[0;32m    345\u001b[0m raw_vocab, vocab_size, nwords, ntokens \u001b[39m=\u001b[39m _load_vocab(fin, new_format, encoding\u001b[39m=\u001b[39mencoding)\n\u001b[0;32m    346\u001b[0m model\u001b[39m.\u001b[39mupdate(raw_vocab\u001b[39m=\u001b[39mraw_vocab, vocab_size\u001b[39m=\u001b[39mvocab_size, nwords\u001b[39m=\u001b[39mnwords, ntokens\u001b[39m=\u001b[39mntokens)\n\u001b[1;32m--> 348\u001b[0m vectors_ngrams \u001b[39m=\u001b[39m _load_matrix(fin, new_format\u001b[39m=\u001b[39;49mnew_format)\n\u001b[0;32m    350\u001b[0m \u001b[39mif\u001b[39;00m \u001b[39mnot\u001b[39;00m full_model:\n\u001b[0;32m    351\u001b[0m     hidden_output \u001b[39m=\u001b[39m \u001b[39mNone\u001b[39;00m\n",
      "File \u001b[1;32mc:\\Users\\paulr\\AppData\\Local\\pypoetry\\Cache\\virtualenvs\\atmospheres-WbcnL0Lo-py3.11\\Lib\\site-packages\\gensim\\models\\_fasttext_bin.py:282\u001b[0m, in \u001b[0;36m_load_matrix\u001b[1;34m(fin, new_format)\u001b[0m\n\u001b[0;32m    280\u001b[0m     matrix \u001b[39m=\u001b[39m _fromfile(fin, _FLOAT_DTYPE, count)\n\u001b[0;32m    281\u001b[0m \u001b[39melse\u001b[39;00m:\n\u001b[1;32m--> 282\u001b[0m     matrix \u001b[39m=\u001b[39m np\u001b[39m.\u001b[39;49mfromfile(fin, _FLOAT_DTYPE, count)\n\u001b[0;32m    284\u001b[0m \u001b[39massert\u001b[39;00m matrix\u001b[39m.\u001b[39mshape \u001b[39m==\u001b[39m (count,), \u001b[39m'\u001b[39m\u001b[39mexpected (\u001b[39m\u001b[39m%r\u001b[39;00m\u001b[39m,),  got \u001b[39m\u001b[39m%r\u001b[39;00m\u001b[39m'\u001b[39m \u001b[39m%\u001b[39m (count, matrix\u001b[39m.\u001b[39mshape)\n\u001b[0;32m    285\u001b[0m matrix \u001b[39m=\u001b[39m matrix\u001b[39m.\u001b[39mreshape((num_vectors, dim))\n",
      "\u001b[1;31mMemoryError\u001b[0m: Unable to allocate 1.24 GiB for an array with shape (331923200,) and data type float32"
     ]
    }
   ],
   "source": [
    "\n",
    "ft_vectors = load_facebook_vectors('data/model/model.bin')\n"
   ]
  },
  {
   "cell_type": "code",
   "execution_count": null,
   "metadata": {},
   "outputs": [],
   "source": [
    "# Now you can use the model to get word embeddings\n",
    "word_vector = model.wv['computer']  # get vector for word"
   ]
  }
 ],
 "metadata": {
  "kernelspec": {
   "display_name": "atmospheres-WbcnL0Lo-py3.11",
   "language": "python",
   "name": "python3"
  },
  "language_info": {
   "codemirror_mode": {
    "name": "ipython",
    "version": 3
   },
   "file_extension": ".py",
   "mimetype": "text/x-python",
   "name": "python",
   "nbconvert_exporter": "python",
   "pygments_lexer": "ipython3",
   "version": "3.11.2"
  }
 },
 "nbformat": 4,
 "nbformat_minor": 2
}
